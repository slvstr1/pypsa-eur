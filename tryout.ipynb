{
 "cells": [
  {
   "cell_type": "code",
   "execution_count": 1,
   "id": "929ccaa6",
   "metadata": {
    "pycharm": {
     "name": "#%%\n"
    }
   },
   "outputs": [
    {
     "data": {
      "text/plain": [
       "'/home/slvst/PycharmProjects/pypsa-eur'"
      ]
     },
     "execution_count": 1,
     "metadata": {},
     "output_type": "execute_result"
    }
   ],
   "source": [
    "import pypsa\n",
    "import matplotlib.pyplot as plt\n",
    "from icecream import ic\n",
    "import os\n",
    "import pandas as pd\n",
    "import numpy as np\n",
    "from os.path import normpath, exists\n",
    "os.path.isdir(\"/pypsa-eur\")\n",
    "os. getcwd()\n",
    "os. getcwd()"
   ]
  },
  {
   "cell_type": "code",
   "execution_count": 2,
   "id": "4148a3c3",
   "metadata": {
    "pycharm": {
     "name": "#%%\n"
    }
   },
   "outputs": [
    {
     "name": "stderr",
     "output_type": "stream",
     "text": [
      "ic| bm.index[0:10]: Index(['3274', '3387', '3399', '3401', '3405', '3408', '3435', '3456', '3458',\n",
      "                           '3461'],\n",
      "                          dtype='object', name='Bus')\n",
      "    bm.values[0:10]: array(['AT0 0', 'AT0 0', 'AT0 0', 'AT0 0', 'AT0 0', 'AT0 0', 'AT0 0',\n",
      "                            'AT0 0', 'AT0 0', 'AT0 0'], dtype=object)\n",
      "    bm.size: 1746\n"
     ]
    },
    {
     "data": {
      "text/plain": [
       "(Index(['3274', '3387', '3399', '3401', '3405', '3408', '3435', '3456', '3458',\n",
       "        '3461'],\n",
       "       dtype='object', name='Bus'),\n",
       " array(['AT0 0', 'AT0 0', 'AT0 0', 'AT0 0', 'AT0 0', 'AT0 0', 'AT0 0',\n",
       "        'AT0 0', 'AT0 0', 'AT0 0'], dtype=object),\n",
       " 1746)"
      ]
     },
     "execution_count": 2,
     "metadata": {},
     "output_type": "execute_result"
    }
   ],
   "source": [
    "bm= pd.read_pickle(\"./busmap.pkl\")\n",
    "ic(bm.index[0:10],bm.values[0:10], bm.size)"
   ]
  },
  {
   "cell_type": "code",
   "execution_count": 132,
   "id": "25dd8441",
   "metadata": {
    "pycharm": {
     "name": "#%%\n"
    }
   },
   "outputs": [
    {
     "name": "stderr",
     "output_type": "stream",
     "text": [
      "ic| type(bm): <class 'pandas.core.series.Series'>\n",
      "ic| bm.size: 640\n",
      "ic| indices: Index(['4467', '4470', '4472', '4497', '4498', '4499', '4601', '4604', '4610',\n",
      "                    '4613', '4614', '4616', '4617', '4618', '4646', '4650', '4652', '4654',\n",
      "                    '4656', '4657', '4662', '4663', '4664', '4669', '4672', '4673', '4675',\n",
      "                    '4676', '4678', '7370', '7806', '8372', '7366', '7913', '7712', '7371',\n",
      "                    '8120', '7325', '7324', '8300', '8660', '7912', '7367', '8410', '7368',\n",
      "                    '7702', '8835', '7872', '7369'],\n",
      "                   dtype='object', name='Bus')\n",
      "ic| bm[indices][0]: 'CZ0 0'\n",
      "ic| bm[cz_bool][0].index: <built-in method index of str object at 0x7f1a39203970>\n",
      "ic| bm[cz_bool].size: 49\n",
      "ic| bm[cz_bool]: Bus\n",
      "                 4467     CZ0 0\n",
      "                 4470     CZ0 1\n",
      "                 4472     CZ0 2\n",
      "                 4497     CZ0 3\n",
      "                 4498     CZ0 4\n",
      "                 4499     CZ0 5\n",
      "                 4601     CZ0 6\n",
      "                 4604     CZ0 7\n",
      "                 4610     CZ0 8\n",
      "                 4613     CZ0 9\n",
      "                 4614    CZ0 10\n",
      "                 4616    CZ0 11\n",
      "                 4617    CZ0 12\n",
      "                 4618    CZ0 13\n",
      "                 4646    CZ0 14\n",
      "                 4650    CZ0 15\n",
      "                 4652    CZ0 16\n",
      "                 4654    CZ0 17\n",
      "                 4656    CZ0 18\n",
      "                 4657    CZ0 19\n",
      "                 4662    CZ0 20\n",
      "                 4663    CZ0 21\n",
      "                 4664    CZ0 22\n",
      "                 4669    CZ0 23\n",
      "                 4672    CZ0 24\n",
      "                 4673    CZ0 25\n",
      "                 4675    CZ0 26\n",
      "                 4676    CZ0 27\n",
      "                 4678    CZ0 28\n",
      "                 7370    CZ0 29\n",
      "                 7806    CZ0 30\n",
      "                 8372    CZ0 31\n",
      "                 7366    CZ0 32\n",
      "                 7913    CZ0 33\n",
      "                 7712    CZ0 34\n",
      "                 7371    CZ0 35\n",
      "                 8120    CZ0 36\n",
      "                 7325    CZ0 37\n",
      "                 7324    CZ0 38\n",
      "                 8300    CZ0 39\n",
      "                 8660    CZ0 40\n",
      "                 7912    CZ0 41\n",
      "                 7367    CZ0 42\n",
      "                 8410    CZ0 43\n",
      "                 7368    CZ0 44\n",
      "                 7702    CZ0 45\n",
      "                 8835    CZ0 46\n",
      "                 7872    CZ0 47\n",
      "                 7369    CZ0 48\n",
      "                 Name: busmap, dtype: object\n"
     ]
    },
    {
     "data": {
      "text/plain": [
       "Bus\n",
       "4467     CZ0 0\n",
       "4470     CZ0 1\n",
       "4472     CZ0 2\n",
       "4497     CZ0 3\n",
       "4498     CZ0 4\n",
       "4499     CZ0 5\n",
       "4601     CZ0 6\n",
       "4604     CZ0 7\n",
       "4610     CZ0 8\n",
       "4613     CZ0 9\n",
       "4614    CZ0 10\n",
       "4616    CZ0 11\n",
       "4617    CZ0 12\n",
       "4618    CZ0 13\n",
       "4646    CZ0 14\n",
       "4650    CZ0 15\n",
       "4652    CZ0 16\n",
       "4654    CZ0 17\n",
       "4656    CZ0 18\n",
       "4657    CZ0 19\n",
       "4662    CZ0 20\n",
       "4663    CZ0 21\n",
       "4664    CZ0 22\n",
       "4669    CZ0 23\n",
       "4672    CZ0 24\n",
       "4673    CZ0 25\n",
       "4675    CZ0 26\n",
       "4676    CZ0 27\n",
       "4678    CZ0 28\n",
       "7370    CZ0 29\n",
       "7806    CZ0 30\n",
       "8372    CZ0 31\n",
       "7366    CZ0 32\n",
       "7913    CZ0 33\n",
       "7712    CZ0 34\n",
       "7371    CZ0 35\n",
       "8120    CZ0 36\n",
       "7325    CZ0 37\n",
       "7324    CZ0 38\n",
       "8300    CZ0 39\n",
       "8660    CZ0 40\n",
       "7912    CZ0 41\n",
       "7367    CZ0 42\n",
       "8410    CZ0 43\n",
       "7368    CZ0 44\n",
       "7702    CZ0 45\n",
       "8835    CZ0 46\n",
       "7872    CZ0 47\n",
       "7369    CZ0 48\n",
       "Name: busmap, dtype: object"
      ]
     },
     "execution_count": 132,
     "metadata": {},
     "output_type": "execute_result"
    }
   ],
   "source": [
    "# ic(bm)\n",
    "bm= pd.read_pickle(\"./busmap.pkl\")\n",
    "cz_bool =list ('CZ0' in elta for elta in bm)\n",
    "indices = bm[cz_bool].index\n",
    "for c,i in enumerate( indices):\n",
    "    bm[i]= f\"CZ0 {c}\"\n",
    "\n",
    "ic(bm[cz_bool])\n",
    "# ic(np.arange(48))\n",
    "# for c,i in enumerate(bm[cz_bool]):\n",
    "#     # ind, nr= i.split(\" \")\n",
    "#     bm[cz_bool][c] = f\"CZ0 {c}\"\n",
    "#     counter+=1\n",
    "#     # ic(i)\n",
    "#     # ic(type(i))\n",
    "# # ic(list(bm_c))\n",
    "# bm_c2 =bm[cz_bool]\n",
    "# ic(list(bm_c2))\n",
    "# bm_c[2]=\"3\"\n",
    "# ic(list(bm_c))\n"
   ]
  },
  {
   "cell_type": "code",
   "execution_count": 4,
   "id": "d951b6b1",
   "metadata": {
    "pycharm": {
     "name": "#%%\n"
    }
   },
   "outputs": [
    {
     "name": "stderr",
     "output_type": "stream",
     "text": [
      "INFO:pypsa.io:Imported network elec_s_20_ec_lv1_1H.nc has buses, carriers, generators, global_constraints, lines, links, loads, storage_units\n"
     ]
    }
   ],
   "source": [
    "n= pypsa.Network(\"/home/slvst/PycharmProjects/pypsa-eur/results/networks/elec_s_20_ec_lv1_1H.nc\")\n"
   ]
  },
  {
   "cell_type": "code",
   "execution_count": 5,
   "id": "5f0f727f",
   "metadata": {
    "pycharm": {
     "name": "#%%\n"
    }
   },
   "outputs": [
    {
     "name": "stdout",
     "output_type": "stream",
     "text": [
      "DatetimeIndex(['2013-02-01 00:00:00', '2013-02-01 01:00:00',\n",
      "               '2013-02-01 02:00:00', '2013-02-01 03:00:00',\n",
      "               '2013-02-01 04:00:00', '2013-02-01 05:00:00',\n",
      "               '2013-02-01 06:00:00', '2013-02-01 07:00:00',\n",
      "               '2013-02-01 08:00:00', '2013-02-01 09:00:00',\n",
      "               '2013-02-01 10:00:00', '2013-02-01 11:00:00',\n",
      "               '2013-02-01 12:00:00', '2013-02-01 13:00:00',\n",
      "               '2013-02-01 14:00:00', '2013-02-01 15:00:00',\n",
      "               '2013-02-01 16:00:00', '2013-02-01 17:00:00',\n",
      "               '2013-02-01 18:00:00', '2013-02-01 19:00:00',\n",
      "               '2013-02-01 20:00:00', '2013-02-01 21:00:00',\n",
      "               '2013-02-01 22:00:00', '2013-02-01 23:00:00',\n",
      "               '2013-02-02 00:00:00', '2013-02-02 01:00:00',\n",
      "               '2013-02-02 02:00:00', '2013-02-02 03:00:00',\n",
      "               '2013-02-02 04:00:00', '2013-02-02 05:00:00',\n",
      "               '2013-02-02 06:00:00', '2013-02-02 07:00:00',\n",
      "               '2013-02-02 08:00:00', '2013-02-02 09:00:00',\n",
      "               '2013-02-02 10:00:00', '2013-02-02 11:00:00',\n",
      "               '2013-02-02 12:00:00', '2013-02-02 13:00:00',\n",
      "               '2013-02-02 14:00:00', '2013-02-02 15:00:00',\n",
      "               '2013-02-02 16:00:00', '2013-02-02 17:00:00',\n",
      "               '2013-02-02 18:00:00', '2013-02-02 19:00:00',\n",
      "               '2013-02-02 20:00:00', '2013-02-02 21:00:00',\n",
      "               '2013-02-02 22:00:00', '2013-02-02 23:00:00'],\n",
      "              dtype='datetime64[ns]', name='snapshot', freq=None)\n",
      "\n",
      " \n",
      " \n",
      " \n",
      " \n",
      " \n",
      "       bus0    bus1  num_parallel      length                         type  \\\n",
      "Line                                                                         \n",
      "1     AT0 0   CH0 0       4.00000  518.769048  Al/St 240/40 4-bundle 380.0   \n",
      "2     AT0 0  CZ0 26       2.00000  310.449723  Al/St 240/40 4-bundle 380.0   \n",
      "3     AT0 0  CZ0 28       0.67036  357.673091  Al/St 240/40 4-bundle 380.0   \n",
      "4     AT0 0   DE0 0       3.67590  518.112530  Al/St 240/40 4-bundle 380.0   \n",
      "5     AT0 0   DE0 1       6.00000  530.869161  Al/St 240/40 4-bundle 380.0   \n",
      "\n",
      "      s_max_pu         s_nom  capital_cost           x          r  ...  \\\n",
      "Line                                                               ...   \n",
      "1          0.7   6792.410447    164.664936   31.904296   3.890768  ...   \n",
      "2          0.7   3396.205223    102.878796   38.185316   4.656746  ...   \n",
      "3          0.7   1138.340255    113.864570  131.254200  16.006610  ...   \n",
      "4          0.7   6242.055861    172.641970   34.673324   4.228454  ...   \n",
      "5          0.7  10188.615670    177.285482   21.765636   2.654346  ...   \n",
      "\n",
      "      build_year lifetime  terrain_factor  v_ang_min  v_ang_max  sub_network  \\\n",
      "Line                                                                           \n",
      "1              0      inf             1.0       -inf        inf                \n",
      "2              0      inf             1.0       -inf        inf                \n",
      "3              0      inf             1.0       -inf        inf                \n",
      "4              0      inf             1.0       -inf        inf                \n",
      "5              0      inf             1.0       -inf        inf                \n",
      "\n",
      "      x_pu  r_pu  g_pu  b_pu  \n",
      "Line                          \n",
      "1      0.0   0.0   0.0   0.0  \n",
      "2      0.0   0.0   0.0   0.0  \n",
      "3      0.0   0.0   0.0   0.0  \n",
      "4      0.0   0.0   0.0   0.0  \n",
      "5      0.0   0.0   0.0   0.0  \n",
      "\n",
      "[5 rows x 30 columns]\n"
     ]
    }
   ],
   "source": [
    "print(n.snapshots)\n",
    "print(\"\\n \" *5)\n",
    "print(n.lines.head())"
   ]
  },
  {
   "cell_type": "code",
   "execution_count": 6,
   "id": "a31797cc",
   "metadata": {
    "pycharm": {
     "name": "#%%\n"
    }
   },
   "outputs": [
    {
     "data": {
      "text/plain": [
       "(<matplotlib.collections.PatchCollection at 0x7f065c62ddc0>,\n",
       " <matplotlib.collections.LineCollection at 0x7f065c5d6940>,\n",
       " <matplotlib.collections.LineCollection at 0x7f065c5e3100>)"
      ]
     },
     "execution_count": 6,
     "metadata": {},
     "output_type": "execute_result"
    },
    {
     "data": {
      "image/png": "[encoded data removed]",
      "text/plain": [
       "<Figure size 432x288 with 1 Axes>"
      ]
     },
     "metadata": {
      "needs_background": "light"
     },
     "output_type": "display_data"
    }
   ],
   "source": [
    "n.plot()"
   ]
  },
  {
   "cell_type": "code",
   "execution_count": 139,
   "id": "4a0dd590",
   "metadata": {
    "pycharm": {
     "name": "#%%\n"
    }
   },
   "outputs": [
    {
     "name": "stderr",
     "output_type": "stream",
     "text": [
      "ic| spike_cols: []\n"
     ]
    },
    {
     "name": "stdout",
     "output_type": "stream",
     "text": [
      "\n",
      "\n",
      "\n"
     ]
    },
    {
     "data": {
      "text/plain": [
       "[]"
      ]
     },
     "execution_count": 139,
     "metadata": {},
     "output_type": "execute_result"
    }
   ],
   "source": [
    "show_outcomes_buses_keys =['p','marginal_price']\n",
    "show_outcomes_lines_keys=['mu_upper', 'mu_lower']\n",
    "print()\n",
    "\n",
    "# ic(f\"to show: {show_outcomes_buses_keys}\")\n",
    "# ic(list(network.buses_t[x] for x in show_outcomes_buses_keys))\n",
    "# ic(list(n.lines_t[x] for x in show_outcomes_lines_keys))\n",
    "print()\n",
    "print()\n",
    "# ic(list(n.buses_t[x] for x in show_outcomes_buses_keys))\n",
    "# ic(n.buses_t['marginal_price'][:0])\n",
    "spike_cols = [col for col in n.buses if 'CZ' in col[:]]\n",
    "ic(spike_cols)\n",
    "# ic( n.buses)\n",
    "\n"
   ]
  },
  {
   "cell_type": "code",
   "execution_count": 38,
   "id": "cef7a682",
   "metadata": {
    "pycharm": {
     "name": "#%%\n"
    }
   },
   "outputs": [],
   "source": [
    "qq = [n.buses[q:] for q in spike_cols]\n",
    "ic(qq)\n"
   ]
  },
  {
   "cell_type": "code",
   "execution_count": null,
   "id": "f119fe5d",
   "metadata": {
    "pycharm": {
     "name": "#%%\n"
    }
   },
   "outputs": [],
   "source": []
  }
 ],
 "metadata": {
  "celltoolbar": "Raw Cell Format",
  "kernelspec": {
   "display_name": "pypsa-eur",
   "language": "python",
   "name": "pypsa-eur"
  },
  "language_info": {
   "codemirror_mode": {
    "name": "ipython",
    "version": 3
   },
   "file_extension": ".py",
   "mimetype": "text/x-python",
   "name": "python",
   "nbconvert_exporter": "python",
   "pygments_lexer": "ipython3",
   "version": "3.9.13"
  }
 },
 "nbformat": 4,
 "nbformat_minor": 5
}
