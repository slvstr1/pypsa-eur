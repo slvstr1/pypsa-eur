{
 "cells": [
  {
   "cell_type": "code",
   "execution_count": 1,
   "id": "929ccaa6",
   "metadata": {
    "pycharm": {
     "name": "#%%\n"
    }
   },
   "outputs": [
    {
     "data": {
      "text/plain": [
       "'/home/slvst/PycharmProjects/pypsa-eur'"
      ]
     },
     "execution_count": 1,
     "metadata": {},
     "output_type": "execute_result"
    }
   ],
   "source": [
    "import pypsa\n",
    "import matplotlib.pyplot as plt\n",
    "from icecream import ic\n",
    "import os\n",
    "import pandas as pd\n",
    "import numpy as np\n",
    "from os.path import normpath, exists\n",
    "os.path.isdir(\"/pypsa-eur\")\n",
    "os. getcwd()\n",
    "os. getcwd()"
   ]
  },
  {
   "cell_type": "code",
   "execution_count": 2,
   "id": "4148a3c3",
   "metadata": {
    "pycharm": {
     "name": "#%%\n"
    }
   },
   "outputs": [
    {
     "name": "stderr",
     "output_type": "stream",
     "text": [
      "ic| bm.index[0:10]: Index(['3274', '3387', '3399', '3401', '3405', '3408', '3435', '3456', '3458',\n",
      "                           '3461'],\n",
      "                          dtype='object', name='Bus')\n",
      "    bm.values[0:10]: array(['AT0 0', 'AT0 0', 'AT0 0', 'AT0 0', 'AT0 0', 'AT0 0', 'AT0 0',\n",
      "                            'AT0 0', 'AT0 0', 'AT0 0'], dtype=object)\n",
      "    bm.size: 1746\n"
     ]
    },
    {
     "data": {
      "text/plain": [
       "(Index(['3274', '3387', '3399', '3401', '3405', '3408', '3435', '3456', '3458',\n",
       "        '3461'],\n",
       "       dtype='object', name='Bus'),\n",
       " array(['AT0 0', 'AT0 0', 'AT0 0', 'AT0 0', 'AT0 0', 'AT0 0', 'AT0 0',\n",
       "        'AT0 0', 'AT0 0', 'AT0 0'], dtype=object),\n",
       " 1746)"
      ]
     },
     "execution_count": 2,
     "metadata": {},
     "output_type": "execute_result"
    }
   ],
   "source": [
    "bm= pd.read_pickle(\"./busmap.pkl\")\n",
    "ic(bm.index[0:10],bm.values[0:10], bm.size)"
   ]
  },
  {
   "cell_type": "code",
   "execution_count": 2,
   "id": "25dd8441",
   "metadata": {
    "pycharm": {
     "name": "#%%\n"
    }
   },
   "outputs": [
    {
     "name": "stderr",
     "output_type": "stream",
     "text": [
      "ic| bm[cz_bool]: Bus\n",
      "                 4467     CZ0 0\n",
      "                 4470     CZ0 1\n",
      "                 4472     CZ0 2\n",
      "                 4497     CZ0 3\n",
      "                 4498     CZ0 4\n",
      "                 4499     CZ0 5\n",
      "                 4601     CZ0 6\n",
      "                 4604     CZ0 7\n",
      "                 4610     CZ0 8\n",
      "                 4613     CZ0 9\n",
      "                 4614    CZ0 10\n",
      "                 4616    CZ0 11\n",
      "                 4617    CZ0 12\n",
      "                 4618    CZ0 13\n",
      "                 4646    CZ0 14\n",
      "                 4650    CZ0 15\n",
      "                 4652    CZ0 16\n",
      "                 4654    CZ0 17\n",
      "                 4656    CZ0 18\n",
      "                 4657    CZ0 19\n",
      "                 4662    CZ0 20\n",
      "                 4663    CZ0 21\n",
      "                 4664    CZ0 22\n",
      "                 4669    CZ0 23\n",
      "                 4672    CZ0 24\n",
      "                 4673    CZ0 25\n",
      "                 4675    CZ0 26\n",
      "                 4676    CZ0 27\n",
      "                 4678    CZ0 28\n",
      "                 7370    CZ0 29\n",
      "                 7806    CZ0 30\n",
      "                 8372    CZ0 31\n",
      "                 7366    CZ0 32\n",
      "                 7913    CZ0 33\n",
      "                 7712    CZ0 34\n",
      "                 7371    CZ0 35\n",
      "                 8120    CZ0 36\n",
      "                 7325    CZ0 37\n",
      "                 7324    CZ0 38\n",
      "                 8300    CZ0 39\n",
      "                 8660    CZ0 40\n",
      "                 7912    CZ0 41\n",
      "                 7367    CZ0 42\n",
      "                 8410    CZ0 43\n",
      "                 7368    CZ0 44\n",
      "                 7702    CZ0 45\n",
      "                 8835    CZ0 46\n",
      "                 7872    CZ0 47\n",
      "                 7369    CZ0 48\n",
      "                 Name: busmap, dtype: object\n"
     ]
    },
    {
     "data": {
      "text/plain": [
       "Bus\n",
       "4467     CZ0 0\n",
       "4470     CZ0 1\n",
       "4472     CZ0 2\n",
       "4497     CZ0 3\n",
       "4498     CZ0 4\n",
       "4499     CZ0 5\n",
       "4601     CZ0 6\n",
       "4604     CZ0 7\n",
       "4610     CZ0 8\n",
       "4613     CZ0 9\n",
       "4614    CZ0 10\n",
       "4616    CZ0 11\n",
       "4617    CZ0 12\n",
       "4618    CZ0 13\n",
       "4646    CZ0 14\n",
       "4650    CZ0 15\n",
       "4652    CZ0 16\n",
       "4654    CZ0 17\n",
       "4656    CZ0 18\n",
       "4657    CZ0 19\n",
       "4662    CZ0 20\n",
       "4663    CZ0 21\n",
       "4664    CZ0 22\n",
       "4669    CZ0 23\n",
       "4672    CZ0 24\n",
       "4673    CZ0 25\n",
       "4675    CZ0 26\n",
       "4676    CZ0 27\n",
       "4678    CZ0 28\n",
       "7370    CZ0 29\n",
       "7806    CZ0 30\n",
       "8372    CZ0 31\n",
       "7366    CZ0 32\n",
       "7913    CZ0 33\n",
       "7712    CZ0 34\n",
       "7371    CZ0 35\n",
       "8120    CZ0 36\n",
       "7325    CZ0 37\n",
       "7324    CZ0 38\n",
       "8300    CZ0 39\n",
       "8660    CZ0 40\n",
       "7912    CZ0 41\n",
       "7367    CZ0 42\n",
       "8410    CZ0 43\n",
       "7368    CZ0 44\n",
       "7702    CZ0 45\n",
       "8835    CZ0 46\n",
       "7872    CZ0 47\n",
       "7369    CZ0 48\n",
       "Name: busmap, dtype: object"
      ]
     },
     "execution_count": 2,
     "metadata": {},
     "output_type": "execute_result"
    }
   ],
   "source": [
    "# ic(bm)\n",
    "bm= pd.read_pickle(\"./busmap.pkl\")\n",
    "cz_bool =list ('CZ0' in elta for elta in bm)\n",
    "indices = bm[cz_bool].index\n",
    "for c,i in enumerate( indices):\n",
    "    bm[i]= f\"CZ0 {c}\"\n",
    "\n",
    "ic(bm[cz_bool])\n",
    "# ic(np.arange(48))\n",
    "# for c,i in enumerate(bm[cz_bool]):\n",
    "#     # ind, nr= i.split(\" \")\n",
    "#     bm[cz_bool][c] = f\"CZ0 {c}\"\n",
    "#     counter+=1\n",
    "#     # ic(i)\n",
    "#     # ic(type(i))\n",
    "# # ic(list(bm_c))\n",
    "# bm_c2 =bm[cz_bool]\n",
    "# ic(list(bm_c2))\n",
    "# bm_c[2]=\"3\"\n",
    "# ic(list(bm_c))\n"
   ]
  },
  {
   "cell_type": "code",
   "execution_count": 7,
   "id": "d951b6b1",
   "metadata": {
    "pycharm": {
     "name": "#%%\n"
    }
   },
   "outputs": [
    {
     "name": "stderr",
     "output_type": "stream",
     "text": [
      "INFO:pypsa.io:Imported network elec_s_31_ec_lv1_1H.nc has buses, carriers, generators, global_constraints, lines, links, loads, storage_units\n"
     ]
    }
   ],
   "source": [
    "n= pypsa.Network(\"/home/slvst/PycharmProjects/pypsa-eur/results/networks/elec_s_31_ec_lv1_1H.nc\")\n"
   ]
  },
  {
   "cell_type": "code",
   "execution_count": 3,
   "id": "5f0f727f",
   "metadata": {
    "pycharm": {
     "name": "#%%\n"
    }
   },
   "outputs": [
    {
     "ename": "NameError",
     "evalue": "name 'n' is not defined",
     "output_type": "error",
     "traceback": [
      "\u001b[0;31m---------------------------------------------------------------------------\u001b[0m",
      "\u001b[0;31mNameError\u001b[0m                                 Traceback (most recent call last)",
      "\u001b[0;32m<ipython-input-3-ddd3ef0759ba>\u001b[0m in \u001b[0;36m<module>\u001b[0;34m\u001b[0m\n\u001b[0;32m----> 1\u001b[0;31m \u001b[0mprint\u001b[0m\u001b[0;34m(\u001b[0m\u001b[0mn\u001b[0m\u001b[0;34m.\u001b[0m\u001b[0msnapshots\u001b[0m\u001b[0;34m)\u001b[0m\u001b[0;34m\u001b[0m\u001b[0;34m\u001b[0m\u001b[0m\n\u001b[0m\u001b[1;32m      2\u001b[0m \u001b[0mprint\u001b[0m\u001b[0;34m(\u001b[0m\u001b[0;34m\"\\n \"\u001b[0m \u001b[0;34m*\u001b[0m\u001b[0;36m5\u001b[0m\u001b[0;34m)\u001b[0m\u001b[0;34m\u001b[0m\u001b[0;34m\u001b[0m\u001b[0m\n\u001b[1;32m      3\u001b[0m \u001b[0mprint\u001b[0m\u001b[0;34m(\u001b[0m\u001b[0mn\u001b[0m\u001b[0;34m.\u001b[0m\u001b[0mlines\u001b[0m\u001b[0;34m.\u001b[0m\u001b[0mhead\u001b[0m\u001b[0;34m(\u001b[0m\u001b[0;34m)\u001b[0m\u001b[0;34m)\u001b[0m\u001b[0;34m\u001b[0m\u001b[0;34m\u001b[0m\u001b[0m\n",
      "\u001b[0;31mNameError\u001b[0m: name 'n' is not defined"
     ]
    }
   ],
   "source": [
    "print(n.snapshots)\n",
    "print(\"\\n \" *5)\n",
    "print(n.lines.head())"
   ]
  },
  {
   "cell_type": "code",
   "execution_count": 8,
   "id": "a31797cc",
   "metadata": {
    "pycharm": {
     "name": "#%%\n"
    }
   },
   "outputs": [
    {
     "data": {
      "text/plain": [
       "(<matplotlib.collections.PatchCollection at 0x7f7ac82dc9a0>,\n",
       " <matplotlib.collections.LineCollection at 0x7f7ac8287790>,\n",
       " <matplotlib.collections.LineCollection at 0x7f7ac827ddc0>)"
      ]
     },
     "execution_count": 8,
     "metadata": {},
     "output_type": "execute_result"
    },
    {
     "data": {
      "image/png": "[encoded data removed]",
      "text/plain": [
       "<Figure size 432x288 with 1 Axes>"
      ]
     },
     "metadata": {
      "needs_background": "light"
     },
     "output_type": "display_data"
    }
   ],
   "source": [
    "n.plot()"
   ]
  },
  {
   "cell_type": "code",
   "execution_count": 139,
   "id": "4a0dd590",
   "metadata": {
    "pycharm": {
     "name": "#%%\n"
    }
   },
   "outputs": [
    {
     "name": "stderr",
     "output_type": "stream",
     "text": [
      "ic| spike_cols: []\n"
     ]
    },
    {
     "name": "stdout",
     "output_type": "stream",
     "text": [
      "\n",
      "\n",
      "\n"
     ]
    },
    {
     "data": {
      "text/plain": [
       "[]"
      ]
     },
     "execution_count": 139,
     "metadata": {},
     "output_type": "execute_result"
    }
   ],
   "source": [
    "show_outcomes_buses_keys =['p','marginal_price']\n",
    "show_outcomes_lines_keys=['mu_upper', 'mu_lower']\n",
    "print()\n",
    "\n",
    "# ic(f\"to show: {show_outcomes_buses_keys}\")\n",
    "# ic(list(network.buses_t[x] for x in show_outcomes_buses_keys))\n",
    "# ic(list(n.lines_t[x] for x in show_outcomes_lines_keys))\n",
    "print()\n",
    "print()\n",
    "# ic(list(n.buses_t[x] for x in show_outcomes_buses_keys))\n",
    "# ic(n.buses_t['marginal_price'][:0])\n",
    "spike_cols = [col for col in n.buses if 'CZ' in col[:]]\n",
    "ic(spike_cols)\n",
    "# ic( n.buses)\n",
    "\n"
   ]
  },
  {
   "cell_type": "code",
   "execution_count": 38,
   "id": "cef7a682",
   "metadata": {
    "pycharm": {
     "name": "#%%\n"
    }
   },
   "outputs": [],
   "source": [
    "qq = [n.buses[q:] for q in spike_cols]\n",
    "ic(qq)\n"
   ]
  },
  {
   "cell_type": "code",
   "execution_count": null,
   "id": "f119fe5d",
   "metadata": {
    "pycharm": {
     "name": "#%%\n"
    }
   },
   "outputs": [],
   "source": []
  }
 ],
 "metadata": {
  "celltoolbar": "Raw Cell Format",
  "kernelspec": {
   "display_name": "pypsa-eur",
   "language": "python",
   "name": "pypsa-eur"
  },
  "language_info": {
   "codemirror_mode": {
    "name": "ipython",
    "version": 3
   },
   "file_extension": ".py",
   "mimetype": "text/x-python",
   "name": "python",
   "nbconvert_exporter": "python",
   "pygments_lexer": "ipython3",
   "version": "3.9.13"
  }
 },
 "nbformat": 4,
 "nbformat_minor": 5
}
